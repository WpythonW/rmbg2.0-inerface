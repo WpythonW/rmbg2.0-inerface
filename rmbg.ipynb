{
 "cells": [
  {
   "cell_type": "code",
   "execution_count": 5,
   "metadata": {},
   "outputs": [],
   "source": [
    "from PIL import Image\n",
    "import matplotlib.pyplot as plt\n",
    "import torch, os\n",
    "from torchvision import transforms\n",
    "from transformers import AutoModelForImageSegmentation"
   ]
  },
  {
   "cell_type": "code",
   "execution_count": null,
   "metadata": {},
   "outputs": [],
   "source": [
    "model = AutoModelForImageSegmentation.from_pretrained('briaai/RMBG-2.0', trust_remote_code=True)\n",
    "torch.set_float32_matmul_precision(['high', 'highest'][0])\n",
    "model.to('cuda')\n",
    "model.eval()"
   ]
  },
  {
   "cell_type": "code",
   "execution_count": null,
   "metadata": {},
   "outputs": [
    {
     "ename": "",
     "evalue": "",
     "output_type": "error",
     "traceback": [
      "\u001b[1;31mПри выполнении кода в текущей ячейке или предыдущей ячейке ядро аварийно завершило работу. \n",
      "\u001b[1;31mПроверьте код в ячейках, чтобы определить возможную причину сбоя. \n",
      "\u001b[1;31mЩелкните <a href='https://aka.ms/vscodeJupyterKernelCrash'>здесь</a>, чтобы получить дополнительные сведения. \n",
      "\u001b[1;31mПодробнее см. в <a href='command:jupyter.viewOutput'>журнале Jupyter</a>."
     ]
    }
   ],
   "source": [
    "# Data settings\n",
    "image_size = (1024, 1024)\n",
    "transform_image = transforms.Compose([\n",
    "    transforms.Resize(image_size),\n",
    "    transforms.ToTensor(),\n",
    "    transforms.Normalize([0.485, 0.456, 0.406], [0.229, 0.224, 0.225])\n",
    "])\n",
    "\n",
    "image_paths = ['cola_baloon.png', 'restaurant_baloons.webp']  # замените на ваши пути к изображениям\n",
    "images = [Image.open(os.path.join(\"input_imgs\", path)).convert('RGB') for path in image_paths]\n",
    "input_tensors = torch.stack([transform_image(img) for img in images]).to('cuda')\n",
    "\n",
    "# Prediction\n",
    "with torch.no_grad():\n",
    "    preds = model(input_tensors)[-1].sigmoid().cpu()\n",
    "\n",
    "for i, (img, pred) in enumerate(zip(images, preds)):\n",
    "    pred_pil = transforms.ToPILImage()(pred.squeeze())\n",
    "    mask = pred_pil.resize(img.size)\n",
    "    img.putalpha(mask)\n",
    "    img.save(os.path.join(\"output_imgs\", f\"processed_image_{i}.png\"))"
   ]
  },
  {
   "cell_type": "code",
   "execution_count": null,
   "metadata": {},
   "outputs": [],
   "source": []
  }
 ],
 "metadata": {
  "kernelspec": {
   "display_name": "venv",
   "language": "python",
   "name": "python3"
  },
  "language_info": {
   "codemirror_mode": {
    "name": "ipython",
    "version": 3
   },
   "file_extension": ".py",
   "mimetype": "text/x-python",
   "name": "python",
   "nbconvert_exporter": "python",
   "pygments_lexer": "ipython3",
   "version": "3.12.6"
  }
 },
 "nbformat": 4,
 "nbformat_minor": 2
}
